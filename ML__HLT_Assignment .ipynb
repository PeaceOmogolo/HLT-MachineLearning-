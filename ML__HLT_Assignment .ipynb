{
 "cells": [
  {
   "cell_type": "markdown",
   "metadata": {},
   "source": [
    "# HLT Assignment"
   ]
  },
  {
   "cell_type": "markdown",
   "metadata": {},
   "source": [
    "In addition to practising the process of loading data, regularizing it and using it to train a model, the goal of this assignment is to investigat the effect of changing model parameters on the performance."
   ]
  },
  {
   "cell_type": "markdown",
   "metadata": {},
   "source": [
    "## Step 1: loading the data"
   ]
  },
  {
   "cell_type": "markdown",
   "metadata": {},
   "source": [
    "We'll be going a bit further with the robot collision dataset. This time, instead of looking at just the first file, we'll look at all five different tasks combined (lp1.data to lp5.data). Prepare two different arrays, X1 and X2, as follows:\n",
    "- Each element in X1 is the immediate reading of the force and torque values after an event, [f1, f2, f3, t1, t2, t3]. The first element should be [1, 1, 63, 3, 1, 0]\n",
    "- Each element in X2 contains 18 values in total - the first, fifth and tenth sets of sensor readings after an event. The first element should be [-1, -1, 61, -3, 0, 0, -1, -1, 63, -3, -1, 0, -1, -1, 61, -3, 0, 0]\n",
    "\n",
    "y should contain the corresponding classes, represented as integers according the the provided dictionary"
   ]
  },
  {
   "cell_type": "code",
   "execution_count": 115,
   "metadata": {
    "collapsed": true
   },
   "outputs": [],
   "source": [
    "files = ['robot_execution_failure/lp1.data', 'robot_execution_failure/lp2.data',\n",
    "'robot_execution_failure/lp3.data', 'robot_execution_failure/lp4.data', 'robot_execution_failure/lp5.data']\n",
    "classes = {'normal':0, 'collision':1, 'obstruction':2, 'fr_collision':3}"
   ]
  },
  {
   "cell_type": "code",
   "execution_count": 116,
   "metadata": {
    "collapsed": true
   },
   "outputs": [],
   "source": [
    "# Your answer\n",
    "import pandas as pd\n",
    "import numpy as np\n",
    "import matplotlib.pyplot as plt\n",
    "import scipy as sc\n"
   ]
  },
  {
   "cell_type": "code",
   "execution_count": 117,
   "metadata": {
    "collapsed": true
   },
   "outputs": [],
   "source": [
    "lines = []\n",
    "for i in range(len(files)):\n",
    "    f1 = open(files[i])\n",
    "    file_lines = f1.readlines()\n",
    "    for j in file_lines: \n",
    "        lines.append(j)"
   ]
  },
  {
   "cell_type": "code",
   "execution_count": 118,
   "metadata": {
    "collapsed": true
   },
   "outputs": [],
   "source": [
    "new_lines = [x.strip() for x in lines]"
   ]
  },
  {
   "cell_type": "code",
   "execution_count": 119,
   "metadata": {
    "collapsed": true
   },
   "outputs": [],
   "source": [
    "new_lines= [i.strip('') for i in new_lines]"
   ]
  },
  {
   "cell_type": "code",
   "execution_count": 120,
   "metadata": {},
   "outputs": [
    {
     "data": {
      "text/plain": [
       "['normal',\n",
       " '-1\\t-1\\t63\\t-3\\t-1\\t0',\n",
       " '0\\t0\\t62\\t-3\\t-1\\t0',\n",
       " '-1\\t-1\\t61\\t-3\\t0\\t0',\n",
       " '-1\\t-1\\t63\\t-2\\t-1\\t0',\n",
       " '-1\\t-1\\t63\\t-3\\t-1\\t0',\n",
       " '-1\\t-1\\t63\\t-3\\t-1\\t0',\n",
       " '-1\\t-1\\t63\\t-3\\t0\\t0',\n",
       " '-1\\t-1\\t63\\t-3\\t-1\\t0',\n",
       " '-1\\t-1\\t63\\t-3\\t-1\\t0',\n",
       " '-1\\t-1\\t61\\t-3\\t0\\t0',\n",
       " '-1\\t-1\\t61\\t-3\\t0\\t0',\n",
       " '-1\\t-1\\t64\\t-3\\t-1\\t0',\n",
       " '-1\\t-1\\t64\\t-3\\t-1\\t0',\n",
       " '-1\\t-1\\t60\\t-3\\t0\\t0',\n",
       " '-1\\t0\\t64\\t-2\\t-1\\t0',\n",
       " 'normal',\n",
       " '-1\\t-1\\t63\\t-2\\t-1\\t0',\n",
       " '-1\\t-1\\t63\\t-3\\t-1\\t0',\n",
       " '-1\\t-1\\t61\\t-3\\t0\\t0']"
      ]
     },
     "execution_count": 120,
     "metadata": {},
     "output_type": "execute_result"
    }
   ],
   "source": [
    "newer = []\n",
    "for i in new_lines:\n",
    "    if len(i)>0:\n",
    "        newer.append(i)\n",
    "newer[:20]"
   ]
  },
  {
   "cell_type": "code",
   "execution_count": 121,
   "metadata": {
    "collapsed": true
   },
   "outputs": [],
   "source": [
    "classes = {'normal':0, 'collision':1, 'obstruction':2, 'fr_collision':3}"
   ]
  },
  {
   "cell_type": "code",
   "execution_count": 122,
   "metadata": {
    "collapsed": true
   },
   "outputs": [],
   "source": [
    "X1 = []\n",
    "y = []\n",
    "for i in range(len(newer) - 1):\n",
    "    line = newer[i].strip() # .strip() removes the line endings \\n\n",
    "    if line in classes.keys(): # If the line matches one of our classes (for eg, 'normal')\n",
    "        for k in range(1,16):\n",
    "            features = [int(x) for x in newer[i+k].strip().split('\\t')] # Split the next line to get our features\n",
    "            X1.append(features)\n",
    "            y.append(classes[line]) # And record which class this set of features belongs to\n"
   ]
  },
  {
   "cell_type": "code",
   "execution_count": 123,
   "metadata": {},
   "outputs": [
    {
     "data": {
      "text/plain": [
       "((4035,), (4035, 6))"
      ]
     },
     "execution_count": 123,
     "metadata": {},
     "output_type": "execute_result"
    }
   ],
   "source": [
    "np.shape(y), np.shape(X1)"
   ]
  },
  {
   "cell_type": "markdown",
   "metadata": {},
   "source": [
    "## Step 2: establishing a baseline"
   ]
  },
  {
   "cell_type": "markdown",
   "metadata": {},
   "source": [
    "Using techniques covered in this unit, split X1 and y into separate training and testing sets. Use the training set to train a neural network (MLPClassifier) using default parameters but with hidden_layer_sizes=(20, 20, 20). Use the test data you held back to score the model you have created. How well does it perform? Print out the score and confusion matrix. For more accuracy, run through these steps 10 times and find the average score - bonus points for running more times and getting a standard deviation!"
   ]
  },
  {
   "cell_type": "code",
   "execution_count": 116,
   "metadata": {
    "collapsed": true
   },
   "outputs": [],
   "source": [
    "# Your answer\n"
   ]
  },
  {
   "cell_type": "code",
   "execution_count": 124,
   "metadata": {
    "collapsed": true
   },
   "outputs": [],
   "source": [
    "import sklearn.model_selection as ms\n",
    "from sklearn.preprocessing import StandardScaler\n",
    "from sklearn.neural_network import MLPClassifier\n",
    "from sklearn.metrics import confusion_matrix"
   ]
  },
  {
   "cell_type": "code",
   "execution_count": 133,
   "metadata": {
    "collapsed": true
   },
   "outputs": [],
   "source": [
    "Xtrain,Xtest,ytrain,ytest =ms.train_test_split(X1,y)"
   ]
  },
  {
   "cell_type": "code",
   "execution_count": 126,
   "metadata": {},
   "outputs": [
    {
     "name": "stderr",
     "output_type": "stream",
     "text": [
      "C:\\Users\\0139137\\AppData\\Local\\Continuum\\Anaconda3\\lib\\site-packages\\sklearn\\neural_network\\multilayer_perceptron.py:563: ConvergenceWarning: Stochastic Optimizer: Maximum iterations reached and the optimization hasn't converged yet.\n",
      "  % (), ConvergenceWarning)\n"
     ]
    }
   ],
   "source": [
    "scores = []\n",
    "confusion_matrices = []\n",
    "def neural_model(Xtrain,Xtest,ytrain,ytest):\n",
    "    scaler = StandardScaler()\n",
    "    scaler.fit(Xtrain)\n",
    "    Xtrain = scaler.transform(Xtrain)\n",
    "    Xtest  =scaler.transform(Xtest)\n",
    "    mlp = MLPClassifier(hidden_layer_sizes=(20,20,20))\n",
    "    mlp.fit(Xtrain,ytrain);\n",
    "    ypred = mlp.predict(Xtest)\n",
    "    confusion_matrices.append(confusion_matrix(ytest,ypred))\n",
    "    scores.append(mlp.score(Xtest, ytest))\n",
    "\n",
    "for i in range(10):\n",
    "    neural_model(Xtrain,Xtest,ytrain,ytest)"
   ]
  },
  {
   "cell_type": "code",
   "execution_count": 127,
   "metadata": {},
   "outputs": [
    {
     "name": "stdout",
     "output_type": "stream",
     "text": [
      "0.830624380575\n"
     ]
    }
   ],
   "source": [
    "print(np.mean(np.asarray(scores)))"
   ]
  },
  {
   "cell_type": "code",
   "execution_count": 43,
   "metadata": {
    "collapsed": true
   },
   "outputs": [],
   "source": [
    "#print(confusion_matrices)\n",
    "import seaborn as sns"
   ]
  },
  {
   "cell_type": "code",
   "execution_count": 128,
   "metadata": {},
   "outputs": [
    {
     "data": {
      "image/png": "[encoded data removed]",
      "text/plain": [
       "<Figure size 1080x1080 with 20 Axes>"
      ]
     },
     "metadata": {},
     "output_type": "display_data"
    }
   ],
   "source": [
    "plt.figure(figsize=(15,15))\n",
    "for i in range(len(confusion_matrices)):\n",
    "    plt.subplot(5,5,i+1)\n",
    "    sns.heatmap(confusion_matrices[i])\n",
    "plt.show()"
   ]
  },
  {
   "cell_type": "code",
   "execution_count": 129,
   "metadata": {},
   "outputs": [
    {
     "name": "stdout",
     "output_type": "stream",
     "text": [
      "0.832408325074\n"
     ]
    }
   ],
   "source": [
    "scores = []\n",
    "confusion_matrices = []\n",
    "def neural_model(Xtrain,Xtest,ytrain,ytest):\n",
    "    scaler = StandardScaler()\n",
    "    scaler.fit(Xtrain)\n",
    "    Xtrain = scaler.transform(Xtrain)\n",
    "    Xtest  =scaler.transform(Xtest)\n",
    "    mlp = MLPClassifier(hidden_layer_sizes=(20,20,20), max_iter = 10000)\n",
    "    mlp.fit(Xtrain,ytrain);\n",
    "    ypred = mlp.predict(Xtest)\n",
    "    confusion_matrices.append(confusion_matrix(ytest,ypred))\n",
    "    scores.append(mlp.score(Xtest, ytest))#storing different neaural network models owing to the random starting conditios\n",
    "\n",
    "for i in range(10):\n",
    "    neural_model(Xtrain,Xtest,ytrain,ytest)\n",
    "\n",
    "print(np.mean(np.asarray(scores)))"
   ]
  },
  {
   "cell_type": "markdown",
   "metadata": {},
   "source": [
    "If you're getting a convergence warning, you could try having the model train over more iterations - change max_iter = 1000 or 10,000. Does this improve the average score?"
   ]
  },
  {
   "cell_type": "markdown",
   "metadata": {
    "collapsed": true
   },
   "source": [
    ">no the score was not improved"
   ]
  },
  {
   "cell_type": "markdown",
   "metadata": {},
   "source": [
    "## Step 3: adding more inputs"
   ]
  },
  {
   "cell_type": "markdown",
   "metadata": {},
   "source": [
    "Use X2 in place of X1 - does the score increase or decrease? Was this what you expected? How many samples are there in our training set?"
   ]
  },
  {
   "cell_type": "code",
   "execution_count": 54,
   "metadata": {
    "collapsed": true
   },
   "outputs": [],
   "source": [
    "X2 = []\n",
    "y2 = []\n",
    "for i in range(len(newer) - 1):\n",
    "    line = newer[i].strip() # .strip() removes the line endings \\n\n",
    "    if line in classes.keys(): # If the line matches one of our classes (for eg, 'normal')\n",
    "        sensor1 =[int(x) for x in newer[i+1].strip().split('\\t')]\n",
    "        sensor5 = [int(x) for x in newer[i+5].strip().split('\\t')]\n",
    "        sensor10 = [int(x) for x in newer[i+10].strip().split('\\t')]\n",
    "            \n",
    "        features =  sensor1+sensor5+sensor10\n",
    "        X2.append(features)\n",
    "        y2.append(classes[line]) # And record which class this set of features belongs to"
   ]
  },
  {
   "cell_type": "code",
   "execution_count": 58,
   "metadata": {},
   "outputs": [
    {
     "data": {
      "text/plain": [
       "((269,), (269, 18))"
      ]
     },
     "execution_count": 58,
     "metadata": {},
     "output_type": "execute_result"
    }
   ],
   "source": [
    "np.shape(y2), np.shape(X2)"
   ]
  },
  {
   "cell_type": "code",
   "execution_count": 59,
   "metadata": {
    "collapsed": true
   },
   "outputs": [],
   "source": [
    "X2train,X2test,y2train,y2test =ms.train_test_split(X2,y2)"
   ]
  },
  {
   "cell_type": "code",
   "execution_count": 61,
   "metadata": {},
   "outputs": [],
   "source": [
    "scores2 = []\n",
    "confusion_matrices2 = []\n",
    "def neural_model(X2train,X2test,y2train,y2test):\n",
    "    scaler = StandardScaler()\n",
    "    scaler.fit(X2train)\n",
    "    X2train = scaler.transform(X2train)\n",
    "    X2test  =scaler.transform(X2test)\n",
    "    mlp = MLPClassifier(hidden_layer_sizes=(20,20,20), max_iter = 10000)\n",
    "    mlp.fit(X2train,y2train);\n",
    "    ypred = mlp.predict(X2test)\n",
    "    confusion_matrices2.append(confusion_matrix(y2test,ypred))\n",
    "    scores2.append(mlp.score(X2test, y2test))#storing different neaural network models owing to the random starting conditios\n",
    "\n",
    "for i in range(10):\n",
    "    neural_model(X2train,X2test,y2train,y2test)"
   ]
  },
  {
   "cell_type": "code",
   "execution_count": 73,
   "metadata": {},
   "outputs": [
    {
     "name": "stdout",
     "output_type": "stream",
     "text": [
      "0.726470588235\n"
     ]
    }
   ],
   "source": [
    "print(np.mean(np.asarray(scores2)))"
   ]
  },
  {
   "cell_type": "markdown",
   "metadata": {},
   "source": [
    ">the score has decreased when using X2 instead of X1...this is expected because the number of elements used has significantly reduced. from about 4000 to about 260"
   ]
  },
  {
   "cell_type": "markdown",
   "metadata": {},
   "source": [
    "## Step 4: feature engineering"
   ]
  },
  {
   "cell_type": "markdown",
   "metadata": {},
   "source": [
    "Back to X1 as our input. Add an extra feature to each item in the array to represent the total force $f_t$. Assume:\n",
    "\n",
    "$f_t^2 = f_1^2 + f_2^2 + f_3^2$\n",
    "\n",
    "Your first input should now look like this:\n",
    "X1[0] = [-1, -1, 61, -3, 0, 0, 61.0163912403872]"
   ]
  },
  {
   "cell_type": "markdown",
   "metadata": {},
   "source": [
    "Repeat the steps from step 2. *Has this extra feature improved model performance?*"
   ]
  },
  {
   "cell_type": "code",
   "execution_count": 96,
   "metadata": {},
   "outputs": [
    {
     "data": {
      "text/plain": [
       "(7, [-1, -1, 63, -3, -1, 0, 63.0158710167526])"
      ]
     },
     "execution_count": 96,
     "metadata": {},
     "output_type": "execute_result"
    }
   ],
   "source": [
    "# Your answer\n",
    "import math as mt\n",
    "X11 = []\n",
    "for i in X1.copy():\n",
    "    f2 = 0\n",
    "    for j in range(3):\n",
    "        f2+= i[j]**2\n",
    "    f2 = f2**0.5 \n",
    "    ft = i\n",
    "    ft.append(f2)\n",
    "   \n",
    "    X11.append(ft)\n",
    "\n",
    "len(X11[0]), X11[0]"
   ]
  },
  {
   "cell_type": "code",
   "execution_count": 99,
   "metadata": {
    "collapsed": true
   },
   "outputs": [],
   "source": [
    "xtrain,xtest,ytrain, ytest = ms.train_test_split(X11,y);"
   ]
  },
  {
   "cell_type": "code",
   "execution_count": 100,
   "metadata": {
    "collapsed": true
   },
   "outputs": [],
   "source": [
    "scores = []\n",
    "confusion_matrices = []\n",
    "def neural_model(Xtrain,Xtest,ytrain,ytest):\n",
    "    scaler = StandardScaler()\n",
    "    scaler.fit(Xtrain)\n",
    "    Xtrain = scaler.transform(Xtrain)\n",
    "    Xtest  =scaler.transform(Xtest)\n",
    "    mlp = MLPClassifier(hidden_layer_sizes=(20,20,20), max_iter = 10000)\n",
    "    mlp.fit(Xtrain,ytrain);\n",
    "    ypred = mlp.predict(Xtest)\n",
    "    confusion_matrices.append(confusion_matrix(ytest,ypred))\n",
    "    scores.append(mlp.score(Xtest, ytest))\n",
    "\n",
    "for i in range(10):\n",
    "    neural_model(xtrain,xtest,ytrain, ytest)"
   ]
  },
  {
   "cell_type": "code",
   "execution_count": 101,
   "metadata": {},
   "outputs": [
    {
     "name": "stdout",
     "output_type": "stream",
     "text": [
      "0.845292368682\n"
     ]
    }
   ],
   "source": [
    "print(np.mean(np.asarray(scores)))"
   ]
  },
  {
   "cell_type": "markdown",
   "metadata": {},
   "source": [
    ">the prediction score is slightly better cusing feature engineering than using X1"
   ]
  },
  {
   "cell_type": "markdown",
   "metadata": {},
   "source": [
    "## Step 5: exploring"
   ]
  },
  {
   "cell_type": "markdown",
   "metadata": {},
   "source": [
    "Create at least 3 more models, adding features or changing the number and size of the hidden layers. Print out the average score for your best model. Comment on what you've found."
   ]
  },
  {
   "cell_type": "code",
   "execution_count": null,
   "metadata": {
    "collapsed": true
   },
   "outputs": [],
   "source": [
    "# Your answer"
   ]
  },
  {
   "cell_type": "code",
   "execution_count": 103,
   "metadata": {},
   "outputs": [
    {
     "name": "stdout",
     "output_type": "stream",
     "text": [
      "0.388404360753\n"
     ]
    }
   ],
   "source": [
    "#first Model....increasing the number of hidden layers\n",
    "\n",
    "scores = []\n",
    "confusion_matrices = []\n",
    "def neural_model(Xtrain,Xtest,ytrain,ytest):\n",
    "    scaler = StandardScaler()\n",
    "    scaler.fit(Xtrain)\n",
    "    Xtrain = scaler.transform(Xtrain)\n",
    "    Xtest  =scaler.transform(Xtest)\n",
    "    mlp = MLPClassifier(hidden_layer_sizes=(20,20,20,20), max_iter = 10000)\n",
    "    mlp.fit(Xtrain,ytrain);\n",
    "    ypred = mlp.predict(Xtest)\n",
    "    confusion_matrices.append(confusion_matrix(ytest,ypred))\n",
    "    scores.append(mlp.score(Xtest, ytest))#storing different neaural network models owing to the random starting conditios\n",
    "\n",
    "for i in range(10):\n",
    "    neural_model(Xtrain,Xtest,ytrain,ytest)\n",
    "\n",
    "print(np.mean(np.asarray(scores)))"
   ]
  },
  {
   "cell_type": "markdown",
   "metadata": {},
   "source": [
    "> adding another hidden layer reduced the accuracy of prediction"
   ]
  },
  {
   "cell_type": "code",
   "execution_count": 135,
   "metadata": {},
   "outputs": [
    {
     "name": "stdout",
     "output_type": "stream",
     "text": [
      "0.849256689792\n"
     ]
    }
   ],
   "source": [
    "#second model....increasing the size of the hidden layers\n",
    "scores = []\n",
    "confusion_matrices = []\n",
    "def neural_model(Xtrain,Xtest,ytrain,ytest):\n",
    "    scaler = StandardScaler()\n",
    "    scaler.fit(Xtrain)\n",
    "    Xtrain = scaler.transform(Xtrain)\n",
    "    Xtest  =scaler.transform(Xtest)\n",
    "    mlp = MLPClassifier(hidden_layer_sizes=(90,90,90), max_iter = 10000)\n",
    "    mlp.fit(Xtrain,ytrain);\n",
    "    ypred = mlp.predict(Xtest)\n",
    "    confusion_matrices.append(confusion_matrix(ytest,ypred))\n",
    "    scores.append(mlp.score(Xtest, ytest))\n",
    "\n",
    "for i in range(10):\n",
    "    neural_model(Xtrain,Xtest,ytrain, ytest)\n",
    "    \n",
    "print(np.mean(np.asarray(scores)))"
   ]
  },
  {
   "cell_type": "markdown",
   "metadata": {},
   "source": [
    ">increasing the size of hidden layers significantly took more computation effort will no improvement in the performance of the first model"
   ]
  },
  {
   "cell_type": "code",
   "execution_count": 112,
   "metadata": {},
   "outputs": [
    {
     "data": {
      "text/plain": [
       "(8, [-1, -1, 63, -3, -1, 0, 63.0158710167526, 3.1622776601683795])"
      ]
     },
     "execution_count": 112,
     "metadata": {},
     "output_type": "execute_result"
    }
   ],
   "source": [
    "# Third model... adding ft and tt(equivalent torque)\n",
    "\n",
    "#Saw i had to recreate X1 for code to work... not sure why\n",
    "X1 = []\n",
    "y = []\n",
    "for i in range(len(newer) - 1):\n",
    "    line = newer[i].strip() # .strip() removes the line endings \\n\n",
    "    if line in classes.keys(): # If the line matches one of our classes (for eg, 'normal')\n",
    "        for k in range(1,16):\n",
    "            features = [int(x) for x in newer[i+k].strip().split('\\t')] # Split the next line to get our features\n",
    "            X1.append(features)\n",
    "            y.append(classes[line]) # And record which class this set of features belongs to\n",
    "\n",
    "X11 = []\n",
    "for i in X1.copy():\n",
    "    f2 = 0\n",
    "    for j in range(3):\n",
    "        f2+= i[j]**2\n",
    "    f2 = f2**0.5\n",
    "        \n",
    "    t2 = 0\n",
    "    for j in range(3,6):\n",
    "        t2+= i[j]**2\n",
    "    t2 = t2**0.5 \n",
    "    \n",
    "    ft = i\n",
    "    ft.append(f2)\n",
    "    ft.append(t2)\n",
    "   \n",
    "    X11.append(ft)\n",
    "\n",
    "len(X11[0]), X11[0]"
   ]
  },
  {
   "cell_type": "code",
   "execution_count": 113,
   "metadata": {
    "collapsed": true
   },
   "outputs": [],
   "source": [
    "xtrain,xtest,ytrain, ytest = ms.train_test_split(X11,y);"
   ]
  },
  {
   "cell_type": "code",
   "execution_count": 114,
   "metadata": {},
   "outputs": [
    {
     "name": "stdout",
     "output_type": "stream",
     "text": [
      "0.840931615461\n"
     ]
    }
   ],
   "source": [
    "scores = []\n",
    "confusion_matrices = []\n",
    "def neural_model(Xtrain,Xtest,ytrain,ytest):\n",
    "    scaler = StandardScaler()\n",
    "    scaler.fit(Xtrain)\n",
    "    Xtrain = scaler.transform(Xtrain)\n",
    "    Xtest  =scaler.transform(Xtest)\n",
    "    mlp = MLPClassifier(hidden_layer_sizes=(20,20,20), max_iter = 10000)\n",
    "    mlp.fit(Xtrain,ytrain);\n",
    "    ypred = mlp.predict(Xtest)\n",
    "    confusion_matrices.append(confusion_matrix(ytest,ypred))\n",
    "    scores.append(mlp.score(Xtest, ytest))\n",
    "\n",
    "for i in range(10):\n",
    "    neural_model(xtrain,xtest,ytrain, ytest)\n",
    "    \n",
    "print(np.mean(np.asarray(scores)))"
   ]
  },
  {
   "cell_type": "markdown",
   "metadata": {},
   "source": [
    ">adding the second engineered feature did not signiifcantly change the performance"
   ]
  },
  {
   "cell_type": "code",
   "execution_count": null,
   "metadata": {
    "collapsed": true
   },
   "outputs": [],
   "source": []
  }
 ],
 "metadata": {
  "kernelspec": {
   "display_name": "Python 3",
   "language": "python",
   "name": "python3"
  },
  "language_info": {
   "codemirror_mode": {
    "name": "ipython",
    "version": 3
   },
   "file_extension": ".py",
   "mimetype": "text/x-python",
   "name": "python",
   "nbconvert_exporter": "python",
   "pygments_lexer": "ipython3",
   "version": "3.6.1"
  }
 },
 "nbformat": 4,
 "nbformat_minor": 2
}
